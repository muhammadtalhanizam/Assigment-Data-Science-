{
 "cells": [
  {
   "cell_type": "code",
   "execution_count": 25,
   "id": "7cdf9fd8",
   "metadata": {},
   "outputs": [
    {
     "name": "stdout",
     "output_type": "stream",
     "text": [
      "Data Science Course\n",
      " Assignment # 1\n",
      "\n",
      "\n",
      "Solution # 1\n",
      "\n",
      "Twinkle, twinkle, little star,\n",
      "\tHow I wonder what you are!\n",
      "\t\tUp above the world so high,\n",
      "\t\tLike a diamond in the sky.\n",
      "Twinkle, twinkle, little star,\n",
      "\tHow I wonder what you are\n",
      "\n"
     ]
    }
   ],
   "source": [
    "print(\"Data Science Course\\n Assignment # 1\\n\\n\")\n",
    "\n",
    "#Question #1\n",
    "print(\"Solution # 1\\n\")\n",
    "\n",
    "print(\"Twinkle, twinkle, little star,\\n\\tHow I wonder what you are!\\n\\t\\tUp above the world so high,\\n\\t\\tLike a diamond in the sky.\\nTwinkle, twinkle, little star,\\n\\tHow I wonder what you are\\n\")"
   ]
  },
  {
   "cell_type": "code",
   "execution_count": 21,
   "id": "97f18489",
   "metadata": {},
   "outputs": [
    {
     "name": "stdout",
     "output_type": "stream",
     "text": [
      "Question # 2\n",
      "\n",
      "3.9.7 (default, Sep 16 2021, 16:59:28) [MSC v.1916 64 bit (AMD64)]\n"
     ]
    }
   ],
   "source": [
    "\n",
    "#Question #2\n",
    "print(\"Solution # 2\\n\")\n",
    "\n",
    "import sys\n",
    "print (sys.version)\n"
   ]
  },
  {
   "cell_type": "code",
   "execution_count": 23,
   "id": "f93e4815",
   "metadata": {},
   "outputs": [
    {
     "name": "stdout",
     "output_type": "stream",
     "text": [
      "Question # 3\n",
      "\n",
      "Current date and time : \n",
      "2022-01-01 14:52:07\n"
     ]
    }
   ],
   "source": [
    "#Question #3\n",
    "print(\"Solution # 3\\n\")\n",
    "\n",
    "import datetime\n",
    "now = datetime.datetime.now()\n",
    "print (\"Current date and time : \")\n",
    "print (now.strftime(\"%Y-%m-%d %H:%M:%S\"))"
   ]
  },
  {
   "cell_type": "code",
   "execution_count": 24,
   "id": "48bb64fa",
   "metadata": {},
   "outputs": [
    {
     "name": "stdout",
     "output_type": "stream",
     "text": [
      "Question # 4\n",
      "\n",
      "Enter the value of radius: 22\n",
      "125.67999999999999\n"
     ]
    }
   ],
   "source": [
    "#Question #4\n",
    "print(\"Solution # 4\\n\")\n",
    "\n",
    "radius_circle = int(input(\"Enter the radius of circle: \"))\n",
    "result = 2 * 3.142 *(radius_circle^2)\n",
    "print(result)"
   ]
  },
  {
   "cell_type": "code",
   "execution_count": 26,
   "id": "cbc03b14",
   "metadata": {},
   "outputs": [
    {
     "name": "stdout",
     "output_type": "stream",
     "text": [
      "Solution # 5\n",
      "\n",
      "Enter your First Name : Talha\n",
      "Enter your Last Name : Nizam\n",
      "Nizam Talha\n"
     ]
    }
   ],
   "source": [
    "#Question 5\n",
    "print(\"Solution # 5\\n\")\n",
    "\n",
    "firstName = input(\"Enter your First Name : \")\n",
    "lastName = input(\"Enter your Last Name : \")\n",
    "print (\"Full Name In Reverse Order: \", lastName + \" \" + firstName)\n"
   ]
  },
  {
   "cell_type": "code",
   "execution_count": 29,
   "id": "12478cc0",
   "metadata": {},
   "outputs": [
    {
     "name": "stdout",
     "output_type": "stream",
     "text": [
      "Solution # 6\n",
      "\n",
      "Enter your first number : 12\n",
      "Enter your second number : 12\n",
      "Sum:  24\n"
     ]
    }
   ],
   "source": [
    "#Question 6\n",
    "print(\"Solution # 6\\n\")\n",
    "\n",
    "first_num = int(input(\"Enter your first number : \"))\n",
    "second_num = int(input(\"Enter your second number : \"))\n",
    "print (\"Sum: \",first_num+second_num)"
   ]
  },
  {
   "cell_type": "code",
   "execution_count": null,
   "id": "1064b9b9",
   "metadata": {},
   "outputs": [],
   "source": []
  }
 ],
 "metadata": {
  "kernelspec": {
   "display_name": "Python 3 (ipykernel)",
   "language": "python",
   "name": "python3"
  },
  "language_info": {
   "codemirror_mode": {
    "name": "ipython",
    "version": 3
   },
   "file_extension": ".py",
   "mimetype": "text/x-python",
   "name": "python",
   "nbconvert_exporter": "python",
   "pygments_lexer": "ipython3",
   "version": "3.9.7"
  }
 },
 "nbformat": 4,
 "nbformat_minor": 5
}
